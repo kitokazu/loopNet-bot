{
 "cells": [
  {
   "cell_type": "code",
   "execution_count": 60,
   "metadata": {},
   "outputs": [],
   "source": [
    "from selenium import webdriver\n",
    "from selenium.webdriver.common.by import By\n",
    "from selenium.webdriver.common.keys import Keys\n",
    "from selenium.webdriver.chrome.service import Service\n",
    "from webdriver_manager.chrome import ChromeDriverManager\n",
    "import pandas as pd\n",
    "import time\n",
    "import json\n"
   ]
  },
  {
   "cell_type": "code",
   "execution_count": 74,
   "metadata": {},
   "outputs": [],
   "source": [
    "service = Service(ChromeDriverManager().install())\n",
    "driver = webdriver.Chrome(service=service)\n",
    "driver.get(\"https://www.loopnet.com/\")\n",
    "\n",
    "# Page load time. Can use time.sleep or WebDriverWait for dynamic content)\n",
    "time.sleep(2)"
   ]
  },
  {
   "cell_type": "code",
   "execution_count": 75,
   "metadata": {},
   "outputs": [],
   "source": [
    "# For sale or lease\n",
    "search_for_sale = driver.find_element(By.CLASS_NAME, \"search-types--for-sale\")\n",
    "search_for_sale.click()\n",
    "\n",
    "# Property type\n",
    "search_property_type = driver.find_element(By.NAME, \"propertytypeforsale\")\n",
    "search_property_type.send_keys(\"Office\")\n",
    "\n",
    "# NOTE TO SELF: A better approach would be to navigate the dropdown menu and select the options\n",
    "\n",
    "# Location\n",
    "search_box = driver.find_element(By.NAME, \"geography\")\n",
    "search_box.send_keys(\"Agoura Hills, CA\")\n",
    "\n",
    "search_box.send_keys(Keys.ENTER)\n",
    "time.sleep(5)"
   ]
  },
  {
   "cell_type": "code",
   "execution_count": 80,
   "metadata": {},
   "outputs": [
    {
     "name": "stdout",
     "output_type": "stream",
     "text": [
      "2\n"
     ]
    }
   ],
   "source": [
    "# Extracting data (e.g., property titles)\n",
    "\n",
    "# search_results = driver.find_elements(By.CLASS_NAME, \"placards\")\n",
    "\n",
    "result = driver.find_element(By.CLASS_NAME, \"placards\")\n",
    "ul_elements = result.find_elements(By.XPATH, './ul') \n",
    "\n",
    "print(len(ul_elements))\n",
    "\n",
    "properties = []\n",
    "for ul in ul_elements:\n",
    "    li_elements = ul.find_elements(By.TAG_NAME, \"li\")\n",
    "    print(len(li_elements))\n",
    "    for li in li_elements:\n",
    "        # Extract the desired information from each li element\n",
    "        property_info = li.text\n",
    "        properties.append({\"property_info\": property_info})\n",
    "\n",
    "# Store data in a JSON file\n",
    "with open('properties.json', 'w') as json_file:\n",
    "    json.dump(properties, json_file, indent=4)\n",
    "\n",
    "    \n",
    "\n",
    "# Close the browser\n",
    "\n",
    "# driver.quit()"
   ]
  },
  {
   "cell_type": "code",
   "execution_count": 64,
   "metadata": {},
   "outputs": [],
   "source": [
    "# # Convert the data into a Pandas DataFrame\n",
    "# df = pd.DataFrame(titles, columns=[\"Property Title\"])\n",
    "\n",
    "# # Display the DataFrame\n",
    "# df.head()\n",
    "\n",
    "# # Optional: Save the data to a CSV file\n",
    "# df.to_csv(\"loopnet_property_titles.csv\", index=False)"
   ]
  }
 ],
 "metadata": {
  "kernelspec": {
   "display_name": "venv",
   "language": "python",
   "name": "python3"
  },
  "language_info": {
   "codemirror_mode": {
    "name": "ipython",
    "version": 3
   },
   "file_extension": ".py",
   "mimetype": "text/x-python",
   "name": "python",
   "nbconvert_exporter": "python",
   "pygments_lexer": "ipython3",
   "version": "3.9.10"
  }
 },
 "nbformat": 4,
 "nbformat_minor": 2
}
